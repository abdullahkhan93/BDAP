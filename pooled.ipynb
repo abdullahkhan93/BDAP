{
 "cells": [
  {
   "cell_type": "code",
   "execution_count": 1,
   "metadata": {},
   "outputs": [],
   "source": [
    "import numpy as np\n",
    "import matplotlib as mpl\n",
    "import matplotlib.pyplot as plt\n",
    "\n",
    "import pystan\n",
    "import pandas as pd\n",
    "# add utilities directory to path\n",
    "import os, sys\n",
    "util_path = os.path.abspath(os.path.join(os.path.pardir, 'utilities_and_data'))\n",
    "if util_path not in sys.path and os.path.exists(util_path):\n",
    "    sys.path.insert(0, util_path)\n",
    "\n",
    "# import from utilities\n",
    "import stan_utility"
   ]
  },
  {
   "cell_type": "code",
   "execution_count": 2,
   "metadata": {},
   "outputs": [
    {
     "name": "stdout",
     "output_type": "stream",
     "text": [
      "(3000, 21)\n",
      "(3000, 4)\n"
     ]
    }
   ],
   "source": [
    "df = pd.read_csv(\"kc_house_data.csv\")\n",
    "random_subset = df.sample(n = 3000)\n",
    "random_subset = random_subset.values\n",
    "print (random_subset.shape)\n",
    "y = random_subset[:,2].ravel().astype(str).astype(float)\n",
    "N = len(y)\n",
    "x = random_subset[:,3:7].astype(str).astype(float)\n",
    "F = 4\n",
    "data = dict(\n",
    "    N = N,\n",
    "    F = F,\n",
    "    y = y,\n",
    "    x = x\n",
    ")\n",
    "print(x.shape)"
   ]
  },
  {
   "cell_type": "code",
   "execution_count": 3,
   "metadata": {},
   "outputs": [
    {
     "name": "stderr",
     "output_type": "stream",
     "text": [
      "INFO:pystan:COMPILING THE C++ CODE FOR MODEL anon_model_f9ee4c66a3dc2a5cb7abcc785796e9f5 NOW.\n"
     ]
    }
   ],
   "source": [
    "model = stan_utility.compile_model('model.stan')\n",
    "\n",
    "\"\"\"\n",
    "stanCode = '''\n",
    "data {  \n",
    "  int <lower=0> N; // Number of data points. \n",
    "  int <lower=0> F; // Number of features\n",
    "  real y[N]; // Price\n",
    "  matrix[N,F] x; // Feature values\n",
    "}\n",
    "parameters {\n",
    "  real intercept;\n",
    "  vector[F] theta;\n",
    "  real sigma;\n",
    "}\n",
    "model {\n",
    "  vector[N] y_mean;\n",
    "  y_mean <- intercept + x*theta;\n",
    "  y ~ normal(y_mean, sigma);\n",
    "}\n",
    "'''\n",
    "model = pystan.StanModel(model_code = stanCode)\n",
    "\"\"\""
   ]
  },
  {
   "cell_type": "code",
   "execution_count": 4,
   "metadata": {},
   "outputs": [
    {
     "name": "stdout",
     "output_type": "stream",
     "text": [
      "Inference for Stan model: anon_model_f9ee4c66a3dc2a5cb7abcc785796e9f5.\n",
      "4 chains, each with iter=2000; warmup=1000; thin=1; \n",
      "post-warmup draws per chain=1000, total post-warmup draws=4000.\n",
      "\n",
      "            mean se_mean     sd   2.5%    25%    50%    75%  97.5%  n_eff   Rhat\n",
      "intercept  8.6e4  381.54  2.0e4  4.6e4  7.3e4  8.7e4 10.0e4  1.3e5   2740    1.0\n",
      "theta[1]  -5.1e4  124.54 6513.5 -6.4e4 -5.5e4 -5.1e4 -4.6e4 -3.8e4   2735    1.0\n",
      "theta[2]  3145.6  188.64 9167.5 -1.5e4  -2953 3111.1 9279.7  2.1e4   2362    1.0\n",
      "theta[3]  300.02    0.17   8.34 283.77 294.69  299.9 305.59 316.25   2381    1.0\n",
      "theta[4]   -0.36  1.7e-3    0.1  -0.57  -0.43  -0.36  -0.29  -0.16   3750    1.0\n",
      "sigma      2.6e5   54.13 3355.8  2.5e5  2.6e5  2.6e5  2.6e5  2.6e5   3843    1.0\n",
      "lp__      -3.9e4    0.04   1.77 -3.9e4 -3.9e4 -3.9e4 -3.9e4 -3.9e4   1857    1.0\n",
      "\n",
      "Samples were drawn using NUTS at Thu Nov 22 17:45:11 2018.\n",
      "For each parameter, n_eff is a crude measure of effective sample size,\n",
      "and Rhat is the potential scale reduction factor on split chains (at \n",
      "convergence, Rhat=1).\n"
     ]
    }
   ],
   "source": [
    "fit = model.sampling(data = data, seed = 194838, n_jobs = -1)\n",
    "samples = fit.extract(permuted = True)\n",
    "print(fit)"
   ]
  },
  {
   "cell_type": "code",
   "execution_count": null,
   "metadata": {},
   "outputs": [],
   "source": []
  }
 ],
 "metadata": {
  "kernelspec": {
   "display_name": "Python 3",
   "language": "python",
   "name": "python3"
  },
  "language_info": {
   "codemirror_mode": {
    "name": "ipython",
    "version": 3
   },
   "file_extension": ".py",
   "mimetype": "text/x-python",
   "name": "python",
   "nbconvert_exporter": "python",
   "pygments_lexer": "ipython3",
   "version": "3.7.0"
  }
 },
 "nbformat": 4,
 "nbformat_minor": 2
}
